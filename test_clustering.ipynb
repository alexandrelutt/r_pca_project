{
 "cells": [
  {
   "cell_type": "code",
   "execution_count": 1,
   "metadata": {},
   "outputs": [],
   "source": [
    "from source_code import evaluation\n",
    "import numpy as np\n",
    "from source_code.evaluation import *\n",
    "from source_code.comparison import *\n",
    "from source_code import models\n",
    "\n",
    "import numpy as np\n",
    "from sklearn.cluster import KMeans\n",
    "from sklearn.metrics import adjusted_rand_score, normalized_mutual_info_score, accuracy_score\n",
    "from sklearn.preprocessing import Normalizer\n",
    "import warnings\n",
    "warnings.filterwarnings(\"ignore\")\n",
    "\n",
    "np.random.seed(42)"
   ]
  },
  {
   "cell_type": "code",
   "execution_count": 2,
   "metadata": {},
   "outputs": [],
   "source": [
    "def clustering_error(y_true, y_pred):\n",
    "    return 100*(1 - accuracy_score(y_true, y_pred))"
   ]
  },
  {
   "cell_type": "code",
   "execution_count": 3,
   "metadata": {},
   "outputs": [],
   "source": [
    "number_list = list()\n",
    "for i in range(1, 251):\n",
    "    if i not in [213] :\n",
    "        number_list.append(f\"{i:03d}\")\n",
    "\n",
    "import random\n",
    "\n",
    "def load_pie_dataset(n_classes):\n",
    "    id_list = random.sample(number_list, n_classes)\n",
    "    imgs = []\n",
    "    for image_idx in id_list:\n",
    "        for j in [0, 1]:\n",
    "            for i in range(10):\n",
    "                filename = f'small_PIE_dataset/{image_idx}/{image_idx}_01_01_051_{j}{i}_crop_128.png'\n",
    "                img = load_img(filename)\n",
    "                imgs.append(img)\n",
    "    X = np.array(imgs)/255\n",
    "    return X"
   ]
  },
  {
   "cell_type": "code",
   "execution_count": 4,
   "metadata": {},
   "outputs": [],
   "source": [
    "n_classes = 3\n",
    "X_data = load_pie_dataset(n_classes=n_classes)\n",
    "X = X_data.reshape(X_data.shape[0], -1)\n",
    "scaler = Normalizer()\n",
    "X = scaler.fit_transform(X)"
   ]
  },
  {
   "cell_type": "code",
   "execution_count": 5,
   "metadata": {},
   "outputs": [
    {
     "name": "stdout",
     "output_type": "stream",
     "text": [
      "Best error: 58.33%\n"
     ]
    }
   ],
   "source": [
    "model = models.RobustPCA()\n",
    "L, S = model.fit(X)\n",
    "\n",
    "U, S, Q = np.linalg.svd(L, full_matrices=False)\n",
    "labels_true = np.arange(n_classes).repeat(20)\n",
    "best_err = 100\n",
    "\n",
    "for _ in range(100):\n",
    "    kmeans = KMeans(n_clusters=n_classes).fit(Q)\n",
    "\n",
    "    pred_clusters = kmeans.labels_\n",
    "    err = clustering_error(labels_true, pred_clusters)\n",
    "    \n",
    "    if err < best_err:\n",
    "        best_err = err\n",
    "        best_labels = pred_clusters\n",
    "        \n",
    "print(f'Best error: {best_err:.2f}%')"
   ]
  },
  {
   "cell_type": "code",
   "execution_count": 7,
   "metadata": {},
   "outputs": [
    {
     "name": "stdout",
     "output_type": "stream",
     "text": [
      "Best error: 45.00%\n"
     ]
    }
   ],
   "source": [
    "labels_true = np.arange(n_classes).repeat(20)\n",
    "best_err = 100\n",
    "\n",
    "for _ in range(10):\n",
    "    kmeans = KMeans(n_clusters=n_classes).fit(X)\n",
    "\n",
    "    pred_clusters = kmeans.labels_\n",
    "    err = clustering_error(labels_true, pred_clusters)\n",
    "    \n",
    "    if err < best_err:\n",
    "        best_err = err\n",
    "        best_labels = pred_clusters\n",
    "        \n",
    "print(f'Best error: {best_err:.2f}%')"
   ]
  }
 ],
 "metadata": {
  "kernelspec": {
   "display_name": "Python 3",
   "language": "python",
   "name": "python3"
  },
  "language_info": {
   "codemirror_mode": {
    "name": "ipython",
    "version": 3
   },
   "file_extension": ".py",
   "mimetype": "text/x-python",
   "name": "python",
   "nbconvert_exporter": "python",
   "pygments_lexer": "ipython3",
   "version": "3.9.12"
  }
 },
 "nbformat": 4,
 "nbformat_minor": 2
}
