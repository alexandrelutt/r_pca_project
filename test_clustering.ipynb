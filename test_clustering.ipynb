{
 "cells": [
  {
   "cell_type": "code",
   "execution_count": 9,
   "metadata": {},
   "outputs": [],
   "source": [
    "from source_code import evaluation\n",
    "import numpy as np\n",
    "from source_code.evaluation import *\n",
    "from source_code.comparison import *\n",
    "\n",
    "from source_code import models\n",
    "import itertools\n",
    "import random\n",
    "from sklearn.decomposition import PCA\n",
    "\n",
    "import numpy as np\n",
    "from sklearn.cluster import KMeans\n",
    "from sklearn.metrics import adjusted_rand_score, normalized_mutual_info_score, accuracy_score\n",
    "from sklearn.preprocessing import Normalizer\n",
    "import warnings\n",
    "warnings.filterwarnings(\"ignore\")\n",
    "\n",
    "%reload_ext autoreload\n",
    "%autoreload 2\n",
    "\n",
    "np.random.seed(42)\n"
   ]
  },
  {
   "cell_type": "markdown",
   "metadata": {},
   "source": [
    "# Fonctions utiles"
   ]
  },
  {
   "cell_type": "code",
   "execution_count": 2,
   "metadata": {},
   "outputs": [],
   "source": [
    "def clustering_error(y_true, y_pred):\n",
    "    return 100*(1 - accuracy_score(y_true, y_pred))"
   ]
  },
  {
   "cell_type": "code",
   "execution_count": 3,
   "metadata": {},
   "outputs": [],
   "source": [
    "def rearrange_y_pred(y_pred, y_true, Q):\n",
    "    # Rearrange q such that the number of misclassified nodes is minimized\n",
    "\n",
    "    # Store all possible permutations of the classes\n",
    "    permutations = list()\n",
    "    for permutation in itertools.permutations(range(Q)):\n",
    "        permutations.append(permutation)\n",
    "\n",
    "    # Compute the number of misclassified nodes for each permutation\n",
    "    misclassified_nodes = list()\n",
    "    for permutation in permutations:\n",
    "        misclassified_nodes.append(np.sum(y_pred != [permutation[i] for i in y_true]))\n",
    "\n",
    "    # Find the permutation that minimizes the number of misclassified nodes\n",
    "    best_permutation = permutations[np.argmin(misclassified_nodes)]\n",
    "\n",
    "    # Rearrange q according to the best permutation\n",
    "    new_y_pred = np.zeros_like(y_pred)\n",
    "    for i in range(Q):\n",
    "        new_y_pred[y_pred == best_permutation[i]] = i\n",
    "\n",
    "    return new_y_pred"
   ]
  },
  {
   "cell_type": "markdown",
   "metadata": {},
   "source": [
    "# AT&T dataset"
   ]
  },
  {
   "cell_type": "code",
   "execution_count": 4,
   "metadata": {},
   "outputs": [],
   "source": [
    "def load_att_dataset():\n",
    "  h = 112\n",
    "  w = 92\n",
    "\n",
    "  X_load = np.zeros((400, h*w))\n",
    "  for cl in range(1, 41):\n",
    "    for i in range(1, 11):\n",
    "      img = \"./att_dataset/s\" + str(cl) + \"/\" + str(i) + \".pgm\"\n",
    "      img = np.array(read_pgm(open(img, 'rb')))\n",
    "      X_load[10*(cl - 1) + (i-1)] = img\n",
    "  X_load = X_load / 255\n",
    "\n",
    "  return X_load.reshape(X_load.shape[0], h, w), h, w"
   ]
  },
  {
   "cell_type": "code",
   "execution_count": 5,
   "metadata": {},
   "outputs": [],
   "source": [
    "with_normalization = True\n",
    "with_normalization_str = \"yes\" if with_normalization else \"no\"\n",
    "n_data_by_class = 10\n",
    "dataset = \"att\"\n",
    "\n",
    "X_data, h , w = load_att_dataset()\n",
    "N_classes = 40\n",
    "X_data = X_data[:N_classes*10]\n",
    "X_data = X_data.reshape(X_data.shape[0], h*w)\n",
    "\n",
    "if with_normalization:\n",
    "    scaler = Normalizer()\n",
    "    X_data = scaler.fit_transform(X_data)\n",
    "\n",
    "labels_true = np.arange(N_classes).repeat(10)"
   ]
  },
  {
   "cell_type": "markdown",
   "metadata": {},
   "source": [
    "## Original data"
   ]
  },
  {
   "cell_type": "code",
   "execution_count": 6,
   "metadata": {},
   "outputs": [
    {
     "name": "stdout",
     "output_type": "stream",
     "text": [
      "Original dataset\n",
      "With normalization : yes\n",
      "NMI : 0.8238116255820676\n"
     ]
    }
   ],
   "source": [
    "kmeans = KMeans(n_clusters=N_classes).fit(X_data)\n",
    "\n",
    "pred_clusters = kmeans.labels_\n",
    "print(\"Original dataset\")\n",
    "print(\"With normalization : \" + with_normalization_str)\n",
    "print(\"NMI :\", normalized_mutual_info_score(labels_true, pred_clusters))"
   ]
  },
  {
   "cell_type": "markdown",
   "metadata": {},
   "source": [
    "## PCA"
   ]
  },
  {
   "cell_type": "code",
   "execution_count": 7,
   "metadata": {},
   "outputs": [
    {
     "name": "stdout",
     "output_type": "stream",
     "text": [
      "PCA\n",
      "With normalization : yes\n",
      "NMI : 0.8488860800229372\n"
     ]
    }
   ],
   "source": [
    "model = PCA()\n",
    "X_pca = model.fit_transform(X_data)\n",
    "\n",
    "kmeans = KMeans(n_clusters=N_classes).fit(X_pca)\n",
    "pred_clusters = kmeans.labels_\n",
    "print(\"PCA\")\n",
    "print(\"With normalization : \" + with_normalization_str)\n",
    "print(\"NMI :\", normalized_mutual_info_score(labels_true, pred_clusters))"
   ]
  },
  {
   "cell_type": "markdown",
   "metadata": {},
   "source": [
    "## RPCA"
   ]
  },
  {
   "cell_type": "code",
   "execution_count": 447,
   "metadata": {},
   "outputs": [
    {
     "name": "stdout",
     "output_type": "stream",
     "text": [
      "RPCA\n",
      "With normalization : yes\n",
      "NMI : 0.858952962929226\n"
     ]
    }
   ],
   "source": [
    "model = models.RobustPCA()\n",
    "L, S = model.fit(X_data)\n",
    "\n",
    "U, S, Q = np.linalg.svd(L, full_matrices=False)\n",
    "Q = L @ Q.T\n",
    "\n",
    "kmeans = KMeans(n_clusters=N_classes).fit(Q)\n",
    "\n",
    "pred_clusters = kmeans.labels_\n",
    "err = clustering_error(labels_true, pred_clusters)\n",
    "\n",
    "print(\"RPCA\")\n",
    "print(\"With normalization : \" + with_normalization_str)\n",
    "print(\"NMI :\", normalized_mutual_info_score(labels_true, pred_clusters))"
   ]
  },
  {
   "cell_type": "markdown",
   "metadata": {},
   "source": [
    "## GLPCA"
   ]
  },
  {
   "cell_type": "code",
   "execution_count": 11,
   "metadata": {},
   "outputs": [],
   "source": [
    "Q_by_beta = dict()\n",
    "X_data2 = X_data.reshape(X_data.shape[0], h, w)\n",
    "for idx in range(40):\n",
    "    X_data_class = X_data2[idx*n_data_by_class:(idx+1)*n_data_by_class]\n",
    "    G = generate_classification_graph(X_data_class, n_data_by_class)\n",
    "    for beta in [0, 0.3]:\n",
    "        GlPCA_model = GLPCA(beta = beta, k = 3)\n",
    "        Q, U = GlPCA_model.fit(X_data_class, G)\n",
    "        if Q_by_beta.get(beta) is None:\n",
    "            Q_by_beta[beta] = Q\n",
    "        else:\n",
    "            Q_by_beta[beta] = np.concatenate((Q_by_beta[beta], Q), axis=0)"
   ]
  },
  {
   "cell_type": "code",
   "execution_count": 14,
   "metadata": {},
   "outputs": [
    {
     "name": "stdout",
     "output_type": "stream",
     "text": [
      "GLPCA\n",
      "With normalization : yes\n",
      "NMI : 0.4447745894836239\n"
     ]
    }
   ],
   "source": [
    "ARI_list = []\n",
    "NMI_list = []\n",
    "error_list = []\n",
    "\n",
    "kmeans = KMeans(n_clusters=40).fit(Q_by_beta[0.3])\n",
    "labels_pred = kmeans.labels_\n",
    "print(\"GLPCA\")\n",
    "print(\"With normalization : \" + with_normalization_str)\n",
    "print(\"NMI :\", normalized_mutual_info_score(labels_true, labels_pred))"
   ]
  },
  {
   "cell_type": "markdown",
   "metadata": {},
   "source": [
    "## RGLPCA"
   ]
  },
  {
   "cell_type": "code",
   "execution_count": 23,
   "metadata": {},
   "outputs": [],
   "source": [
    "RGLPCA_Q_by_beta = dict()\n",
    "X_data2 = X_data.reshape(X_data.shape[0], h, w)\n",
    "for idx in range(40):\n",
    "    X_data_class = X_data2[idx*n_data_by_class:(idx+1)*n_data_by_class]\n",
    "    G = generate_classification_graph(X_data_class, n_data_by_class)\n",
    "    RGlPCA_model = RGLPCA(beta = 0.3, k = 3)\n",
    "    Q, U, E = RGlPCA_model.fit(X_data_class, G)\n",
    "    if RGLPCA_Q_by_beta.get(0.3) is None:\n",
    "        RGLPCA_Q_by_beta[0.3] = Q\n",
    "    else:\n",
    "        RGLPCA_Q_by_beta[0.3] = np.concatenate((RGLPCA_Q_by_beta[beta], Q), axis=0)"
   ]
  },
  {
   "cell_type": "code",
   "execution_count": 25,
   "metadata": {},
   "outputs": [
    {
     "name": "stdout",
     "output_type": "stream",
     "text": [
      "RGLPCA\n",
      "With normalization : yes\n",
      "NMI : 0.43264083197691744\n"
     ]
    }
   ],
   "source": [
    "ARI_list = []\n",
    "NMI_list = []\n",
    "error_list = []\n",
    "\n",
    "kmeans = KMeans(n_clusters=40).fit(RGLPCA_Q_by_beta[0.3])\n",
    "labels_pred = kmeans.labels_\n",
    "print(\"RGLPCA\")\n",
    "print(\"With normalization : \" + with_normalization_str)\n",
    "print(\"NMI :\", normalized_mutual_info_score(labels_true, labels_pred))"
   ]
  },
  {
   "cell_type": "markdown",
   "metadata": {},
   "source": [
    "## Our PCA"
   ]
  },
  {
   "cell_type": "code",
   "execution_count": 27,
   "metadata": {},
   "outputs": [
    {
     "name": "stdout",
     "output_type": "stream",
     "text": [
      "RPCA\n",
      "With normalization : yes\n",
      "NMI : 0.862944940413809\n"
     ]
    }
   ],
   "source": [
    "model = models.RobustPCA()\n",
    "L, S = model.fit(X_data)\n",
    "\n",
    "\n",
    "U, S, Q = np.linalg.svd(L, full_matrices=False)\n",
    "Q = L @ Q.T\n",
    "\n",
    "kmeans = KMeans(n_clusters=N_classes).fit(Q)\n",
    "pred_clusters = kmeans.labels_\n",
    "\n",
    "print(\"RPCA\")\n",
    "print(\"With normalization : \" + with_normalization_str)\n",
    "print(\"NMI :\", normalized_mutual_info_score(labels_true, pred_clusters))"
   ]
  },
  {
   "cell_type": "markdown",
   "metadata": {},
   "source": [
    "# Pie Dataset"
   ]
  },
  {
   "cell_type": "code",
   "execution_count": 28,
   "metadata": {},
   "outputs": [],
   "source": [
    "def load_pie_dataset():\n",
    "    image_idx = np.random.choice(number_list)\n",
    "    imgs = []\n",
    "    for image_idx in number_list:\n",
    "        for j in [0, 1]:\n",
    "            for i in range(10):\n",
    "                filename = f'small_PIE_dataset/{image_idx}/{image_idx}_01_01_051_{j}{i}_crop_128.png'\n",
    "                img = load_img(filename)\n",
    "                flat_img = img.flatten()\n",
    "                imgs.append(flat_img)\n",
    "    X = np.array(imgs).reshape(-1, 64, 64)\n",
    "    return X/255, 64, 64"
   ]
  },
  {
   "cell_type": "code",
   "execution_count": 30,
   "metadata": {},
   "outputs": [],
   "source": [
    "with_normalization = True\n",
    "with_normalization_str = \"yes\" if with_normalization else \"no\"\n",
    "n_data_by_class = 20\n",
    "dataset = \"pie\"\n",
    "\n",
    "X_data, h , w = load_pie_dataset()\n",
    "N_classes = 40\n",
    "X_data = X_data[:N_classes*n_data_by_class]\n",
    "X_data = X_data.reshape(X_data.shape[0], h*w)\n",
    "\n",
    "if with_normalization:\n",
    "    scaler = Normalizer()\n",
    "    X_data = scaler.fit_transform(X_data)\n",
    "\n",
    "labels_true = np.arange(N_classes).repeat(n_data_by_class)"
   ]
  },
  {
   "cell_type": "markdown",
   "metadata": {},
   "source": [
    "## Original data"
   ]
  },
  {
   "cell_type": "code",
   "execution_count": 31,
   "metadata": {},
   "outputs": [
    {
     "name": "stdout",
     "output_type": "stream",
     "text": [
      "Original dataset\n",
      "With normalization : yes\n",
      "NMI : 0.6373573023186193\n"
     ]
    }
   ],
   "source": [
    "kmeans = KMeans(n_clusters=N_classes).fit(X_data)\n",
    "\n",
    "pred_clusters = kmeans.labels_\n",
    "print(\"Original dataset\")\n",
    "print(\"With normalization : \" + with_normalization_str)\n",
    "print(\"NMI :\", normalized_mutual_info_score(labels_true, pred_clusters))"
   ]
  },
  {
   "cell_type": "markdown",
   "metadata": {},
   "source": [
    "## PCA"
   ]
  },
  {
   "cell_type": "code",
   "execution_count": 32,
   "metadata": {},
   "outputs": [
    {
     "name": "stdout",
     "output_type": "stream",
     "text": [
      "PCA\n",
      "With normalization : yes\n",
      "NMI : 0.6638308891006159\n"
     ]
    }
   ],
   "source": [
    "model = PCA()\n",
    "X_pca = model.fit_transform(X_data)\n",
    "\n",
    "kmeans = KMeans(n_clusters=N_classes).fit(X_pca)\n",
    "pred_clusters = kmeans.labels_\n",
    "print(\"PCA\")\n",
    "print(\"With normalization : \" + with_normalization_str)\n",
    "print(\"NMI :\", normalized_mutual_info_score(labels_true, pred_clusters))"
   ]
  },
  {
   "cell_type": "markdown",
   "metadata": {},
   "source": [
    "## RPCA"
   ]
  },
  {
   "cell_type": "code",
   "execution_count": 33,
   "metadata": {},
   "outputs": [
    {
     "name": "stdout",
     "output_type": "stream",
     "text": [
      "RPCA\n",
      "With normalization : yes\n",
      "NMI : 0.648999267157239\n"
     ]
    }
   ],
   "source": [
    "model = models.RobustPCA()\n",
    "L, S = model.fit(X_data)\n",
    "\n",
    "U, S, Q = np.linalg.svd(L, full_matrices=False)\n",
    "Q = L @ Q.T\n",
    "\n",
    "kmeans = KMeans(n_clusters=N_classes).fit(Q)\n",
    "\n",
    "pred_clusters = kmeans.labels_\n",
    "err = clustering_error(labels_true, pred_clusters)\n",
    "\n",
    "print(\"RPCA\")\n",
    "print(\"With normalization : \" + with_normalization_str)\n",
    "print(\"NMI :\", normalized_mutual_info_score(labels_true, pred_clusters))"
   ]
  },
  {
   "cell_type": "markdown",
   "metadata": {},
   "source": [
    "## GLPCA"
   ]
  },
  {
   "cell_type": "code",
   "execution_count": 34,
   "metadata": {},
   "outputs": [],
   "source": [
    "Q_by_beta = dict()\n",
    "X_data2 = X_data.reshape(X_data.shape[0], h, w)\n",
    "for idx in range(40):\n",
    "    X_data_class = X_data2[idx*n_data_by_class:(idx+1)*n_data_by_class]\n",
    "    G = generate_classification_graph(X_data_class, n_data_by_class)\n",
    "    for beta in [0, 0.3]:\n",
    "        GlPCA_model = GLPCA(beta = beta, k = 3)\n",
    "        Q, U = GlPCA_model.fit(X_data_class, G)\n",
    "        if Q_by_beta.get(beta) is None:\n",
    "            Q_by_beta[beta] = Q\n",
    "        else:\n",
    "            Q_by_beta[beta] = np.concatenate((Q_by_beta[beta], Q), axis=0)"
   ]
  },
  {
   "cell_type": "code",
   "execution_count": 35,
   "metadata": {},
   "outputs": [
    {
     "name": "stdout",
     "output_type": "stream",
     "text": [
      "GLPCA\n",
      "With normalization : yes\n",
      "NMI : 0.2975833776104032\n"
     ]
    }
   ],
   "source": [
    "kmeans = KMeans(n_clusters=40).fit(Q_by_beta[0.3])\n",
    "labels_pred = kmeans.labels_\n",
    "print(\"GLPCA\")\n",
    "print(\"With normalization : \" + with_normalization_str)\n",
    "print(\"NMI :\", normalized_mutual_info_score(labels_true, labels_pred))"
   ]
  },
  {
   "cell_type": "markdown",
   "metadata": {},
   "source": [
    "## RGLPCA"
   ]
  },
  {
   "cell_type": "code",
   "execution_count": 36,
   "metadata": {},
   "outputs": [],
   "source": [
    "RGLPCA_Q_by_beta = dict()\n",
    "X_data2 = X_data.reshape(X_data.shape[0], h, w)\n",
    "for idx in range(40):\n",
    "    X_data_class = X_data2[idx*n_data_by_class:(idx+1)*n_data_by_class]\n",
    "    G = generate_classification_graph(X_data_class, n_data_by_class)\n",
    "    RGlPCA_model = RGLPCA(beta = 0.3, k = 3)\n",
    "    Q, U, E = RGlPCA_model.fit(X_data_class, G)\n",
    "    if RGLPCA_Q_by_beta.get(0.3) is None:\n",
    "        RGLPCA_Q_by_beta[0.3] = Q\n",
    "    else:\n",
    "        RGLPCA_Q_by_beta[0.3] = np.concatenate((RGLPCA_Q_by_beta[beta], Q), axis=0)"
   ]
  },
  {
   "cell_type": "code",
   "execution_count": 37,
   "metadata": {},
   "outputs": [
    {
     "name": "stdout",
     "output_type": "stream",
     "text": [
      "RGLPCA\n",
      "With normalization : yes\n",
      "NMI : 0.31852996251869653\n"
     ]
    }
   ],
   "source": [
    "kmeans = KMeans(n_clusters=40).fit(RGLPCA_Q_by_beta[0.3])\n",
    "labels_pred = kmeans.labels_\n",
    "print(\"RGLPCA\")\n",
    "print(\"With normalization : \" + with_normalization_str)\n",
    "print(\"NMI :\", normalized_mutual_info_score(labels_true, labels_pred))"
   ]
  },
  {
   "cell_type": "markdown",
   "metadata": {},
   "source": [
    "## Our PCA"
   ]
  },
  {
   "cell_type": "code",
   "execution_count": 38,
   "metadata": {},
   "outputs": [
    {
     "name": "stdout",
     "output_type": "stream",
     "text": [
      "RPCA\n",
      "With normalization : yes\n",
      "NMI : 0.6451585368910414\n"
     ]
    }
   ],
   "source": [
    "model = models.RobustPCA()\n",
    "L, S = model.fit(X_data)\n",
    "\n",
    "\n",
    "U, S, Q = np.linalg.svd(L, full_matrices=False)\n",
    "Q = L @ Q.T\n",
    "\n",
    "kmeans = KMeans(n_clusters=N_classes).fit(Q)\n",
    "pred_clusters = kmeans.labels_\n",
    "\n",
    "print(\"RPCA\")\n",
    "print(\"With normalization : \" + with_normalization_str)\n",
    "print(\"NMI :\", normalized_mutual_info_score(labels_true, pred_clusters))"
   ]
  },
  {
   "cell_type": "markdown",
   "metadata": {},
   "source": [
    "# Code brouillon en vrac"
   ]
  },
  {
   "cell_type": "code",
   "execution_count": 380,
   "metadata": {},
   "outputs": [],
   "source": [
    "X_data, h , w = load_pie_dataset()\n",
    "n_classes = 3\n",
    "X_data = X_data[:n_classes*20]\n",
    "X_data = X_data.reshape(X_data.shape[0], h*w)\n",
    "scaler = Normalizer()\n",
    "X_data = scaler.fit_transform(X_data)\n",
    "\n",
    "\n",
    "labels_true = np.arange(n_classes).repeat(20)"
   ]
  },
  {
   "cell_type": "code",
   "execution_count": 396,
   "metadata": {},
   "outputs": [
    {
     "name": "stdout",
     "output_type": "stream",
     "text": [
      "NMI : 0.3546809798912656\n",
      "46.666666666666664\n"
     ]
    }
   ],
   "source": [
    "kmeans = KMeans(n_clusters=n_classes).fit(X_data)\n",
    "pred_clusters = kmeans.labels_\n",
    "\n",
    "pred_clusters_rearranged = rearrange_y_pred(pred_clusters, labels_true, n_classes)\n",
    "print(\"NMI :\", normalized_mutual_info_score(labels_true, pred_clusters))\n",
    "print(clustering_error(labels_true, pred_clusters_rearranged))"
   ]
  },
  {
   "cell_type": "code",
   "execution_count": 397,
   "metadata": {},
   "outputs": [
    {
     "name": "stdout",
     "output_type": "stream",
     "text": [
      "46.666666666666664\n",
      "46.66666666666667\n"
     ]
    }
   ],
   "source": [
    "err = list()\n",
    "for i in range(10):\n",
    "    kmeans = KMeans(n_clusters=n_classes).fit(X_data)\n",
    "    pred_clusters = kmeans.labels_\n",
    "\n",
    "    err.append(clustering_error(labels_true, rearrange_y_pred(pred_clusters, labels_true, n_classes)))\n",
    "\n",
    "print(np.min(err))\n",
    "print(np.mean(err))"
   ]
  },
  {
   "cell_type": "code",
   "execution_count": 400,
   "metadata": {},
   "outputs": [],
   "source": [
    "model = PCA(n_components=2)\n",
    "X_pca = model.fit_transform(X_data)\n",
    "\n",
    "kmeans = KMeans(n_clusters=n_classes).fit(X_pca)\n",
    "pred_clusters = kmeans.labels_\n"
   ]
  },
  {
   "cell_type": "code",
   "execution_count": 401,
   "metadata": {},
   "outputs": [
    {
     "data": {
      "image/png": "[encoded data removed]",
      "text/plain": [
       "<Figure size 432x288 with 1 Axes>"
      ]
     },
     "metadata": {
      "needs_background": "light"
     },
     "output_type": "display_data"
    },
    {
     "data": {
      "image/png": "[encoded data removed]",
      "text/plain": [
       "<Figure size 432x288 with 1 Axes>"
      ]
     },
     "metadata": {
      "needs_background": "light"
     },
     "output_type": "display_data"
    }
   ],
   "source": [
    "plt.scatter(X_pca[:, 0], X_pca[:, 1], c=labels_true)\n",
    "plt.show()\n",
    "plt.scatter(X_pca[:, 0], X_pca[:, 1], c=pred_clusters)\n",
    "plt.show()"
   ]
  },
  {
   "cell_type": "code",
   "execution_count": 402,
   "metadata": {},
   "outputs": [],
   "source": [
    "# 3D plot\n",
    "model = PCA(n_components=3)\n",
    "X_pca = model.fit_transform(X_data)\n",
    "\n",
    "kmeans = KMeans(n_clusters=n_classes).fit(X_pca)\n",
    "pred_clusters = kmeans.labels_\n"
   ]
  },
  {
   "cell_type": "code",
   "execution_count": 403,
   "metadata": {},
   "outputs": [
    {
     "data": {
      "image/png": "[encoded data removed]",
      "text/plain": [
       "<Figure size 432x288 with 1 Axes>"
      ]
     },
     "metadata": {
      "needs_background": "light"
     },
     "output_type": "display_data"
    },
    {
     "data": {
      "image/png": "[encoded data removed]",
      "text/plain": [
       "<Figure size 432x288 with 1 Axes>"
      ]
     },
     "metadata": {
      "needs_background": "light"
     },
     "output_type": "display_data"
    }
   ],
   "source": [
    "from mpl_toolkits.mplot3d import Axes3D\n",
    "\n",
    "fig = plt.figure()\n",
    "ax = Axes3D(fig)\n",
    "ax.scatter(X_pca[:, 0], X_pca[:, 1], X_pca[:, 2], c=labels_true)\n",
    "plt.show()\n",
    "\n",
    "fig = plt.figure()\n",
    "ax = Axes3D(fig)\n",
    "ax.scatter(X_pca[:, 0], X_pca[:, 1], X_pca[:, 2], c=pred_clusters)\n",
    "plt.show()"
   ]
  },
  {
   "cell_type": "code",
   "execution_count": 372,
   "metadata": {},
   "outputs": [],
   "source": [
    "output = list()\n",
    "for j in range(1, 100):\n",
    "    model = PCA(n_components=j)\n",
    "    X_pca = model.fit_transform(X_data)\n",
    "    err = list()\n",
    "\n",
    "    for i in range(10):\n",
    "        kmeans = KMeans(n_clusters=n_classes).fit(X_pca)\n",
    "        pred_clusters = kmeans.labels_\n",
    "\n",
    "        err.append(clustering_error(labels_true, rearrange_y_pred(pred_clusters, labels_true, n_classes)))\n",
    "\n",
    "    output.append(np.min(err))"
   ]
  },
  {
   "cell_type": "code",
   "execution_count": 373,
   "metadata": {},
   "outputs": [
    {
     "data": {
      "text/plain": [
       "[<matplotlib.lines.Line2D at 0x1d60d573790>]"
      ]
     },
     "execution_count": 373,
     "metadata": {},
     "output_type": "execute_result"
    },
    {
     "data": {
      "image/png": "[encoded data removed]",
      "text/plain": [
       "<Figure size 432x288 with 1 Axes>"
      ]
     },
     "metadata": {
      "needs_background": "light"
     },
     "output_type": "display_data"
    }
   ],
   "source": [
    "plt.plot(output)"
   ]
  },
  {
   "cell_type": "code",
   "execution_count": 370,
   "metadata": {},
   "outputs": [
    {
     "data": {
      "text/plain": [
       "(100, 4096)"
      ]
     },
     "execution_count": 370,
     "metadata": {},
     "output_type": "execute_result"
    }
   ],
   "source": [
    "X_data.shape"
   ]
  },
  {
   "cell_type": "code",
   "execution_count": 371,
   "metadata": {},
   "outputs": [
    {
     "data": {
      "text/plain": [
       "(100, 100)"
      ]
     },
     "execution_count": 371,
     "metadata": {},
     "output_type": "execute_result"
    }
   ],
   "source": [
    "X_pca.shape"
   ]
  },
  {
   "cell_type": "code",
   "execution_count": 319,
   "metadata": {},
   "outputs": [],
   "source": [
    "number_list = list()\n",
    "for i in range(1, 251):\n",
    "    if i not in [213] :\n",
    "        number_list.append(f\"{i:03d}\")\n",
    "\n",
    "\n",
    "def load_pie_dataset(n_classes):\n",
    "    id_list = random.sample(number_list, n_classes)\n",
    "    imgs = []\n",
    "    for image_idx in id_list:\n",
    "        for j in [0, 1]:\n",
    "            for i in range(10):\n",
    "                filename = f'small_PIE_dataset/{image_idx}/{image_idx}_01_01_051_{j}{i}_crop_128.png'\n",
    "                img = load_img(filename)\n",
    "                imgs.append(img)\n",
    "    X = np.array(imgs)/255\n",
    "    return X"
   ]
  },
  {
   "cell_type": "code",
   "execution_count": 320,
   "metadata": {},
   "outputs": [],
   "source": [
    "n_classes = 7\n",
    "X_data = load_pie_dataset(n_classes=n_classes)\n",
    "X = X_data.reshape(X_data.shape[0], -1)\n",
    "scaler = Normalizer()\n",
    "X = scaler.fit_transform(X)\n",
    "\n",
    "labels_true = np.arange(n_classes).repeat(20)\n",
    "\n",
    "n_trials = 50"
   ]
  },
  {
   "cell_type": "code",
   "execution_count": 323,
   "metadata": {},
   "outputs": [
    {
     "name": "stdout",
     "output_type": "stream",
     "text": [
      "Best error: 45.00%\n",
      "Best NMI: 0.66\n"
     ]
    }
   ],
   "source": [
    "errors = np.zeros(n_trials)\n",
    "nmi_list = np.zeros(n_trials)\n",
    "for i in range(n_trials):\n",
    "    kmeans = KMeans(n_clusters=n_classes).fit(X)\n",
    "\n",
    "    pred_clusters = kmeans.labels_\n",
    "    err = clustering_error(labels_true, rearrange_y_pred(pred_clusters, labels_true, n_classes))\n",
    "    errors[i] = err\n",
    "    nmi = normalized_mutual_info_score(labels_true, pred_clusters)\n",
    "    nmi_list[i] = nmi\n",
    "\n",
    "print(f'Best error: {np.min(errors):.2f}%')\n",
    "print(f'Best NMI: {np.max(nmi_list):.2f}')"
   ]
  },
  {
   "cell_type": "code",
   "execution_count": 5,
   "metadata": {},
   "outputs": [
    {
     "name": "stdout",
     "output_type": "stream",
     "text": [
      "Best error: 60.00%\n"
     ]
    }
   ],
   "source": [
    "model = models.RobustPCA()\n",
    "L, S = model.fit(X)\n",
    "\n",
    "errors = np.zeros(n_trials)\n",
    "\n",
    "U, S, Q = np.linalg.svd(L, full_matrices=False)\n",
    "Q = L @ Q.T\n",
    "\n",
    "for i in range(n_trials):\n",
    "    kmeans = KMeans(n_clusters=n_classes).fit(Q)\n",
    "\n",
    "    pred_clusters = kmeans.labels_\n",
    "    err = clustering_error(labels_true, pred_clusters)\n",
    "    errors[i] = err\n",
    "\n",
    "print(f'Best error: {np.min(errors):.2f}%')"
   ]
  },
  {
   "cell_type": "code",
   "execution_count": 8,
   "metadata": {},
   "outputs": [
    {
     "name": "stdout",
     "output_type": "stream",
     "text": [
      "Best error: 56.00%\n"
     ]
    }
   ],
   "source": [
    "from sklearn.decomposition import PCA\n",
    "\n",
    "errors = np.zeros(n_trials)\n",
    "model = PCA()\n",
    "X_pca = model.fit_transform(X)\n",
    "\n",
    "for i in range(n_trials):\n",
    "    kmeans = KMeans(n_clusters=n_classes).fit(X_pca)\n",
    "\n",
    "    pred_clusters = kmeans.labels_\n",
    "    err = clustering_error(labels_true, pred_clusters)\n",
    "    errors[i] = err\n",
    "\n",
    "print(f'Best error: {np.min(errors):.2f}%')"
   ]
  }
 ],
 "metadata": {
  "kernelspec": {
   "display_name": "Python 3",
   "language": "python",
   "name": "python3"
  },
  "language_info": {
   "codemirror_mode": {
    "name": "ipython",
    "version": 3
   },
   "file_extension": ".py",
   "mimetype": "text/x-python",
   "name": "python",
   "nbconvert_exporter": "python",
   "pygments_lexer": "ipython3",
   "version": "3.8.5"
  }
 },
 "nbformat": 4,
 "nbformat_minor": 2
}
